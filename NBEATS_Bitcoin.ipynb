{
 "cells": [
  {
   "cell_type": "code",
   "execution_count": 45,
   "id": "17f24717",
   "metadata": {},
   "outputs": [],
   "source": [
    "import numpy as np\n",
    "import pandas as pd\n",
    "import tensorflow as tf\n",
    "from tensorflow.keras.layers import Input, Dense, Lambda\n",
    "from tensorflow.keras.models import Model\n",
    "from tensorflow.keras.optimizers import Adam\n",
    "from tensorflow.keras.losses import MeanSquaredError\n",
    "from tensorflow.keras.callbacks import EarlyStopping\n",
    "from sklearn.preprocessing import MinMaxScaler\n",
    "from sklearn.model_selection import train_test_split\n",
    "from sklearn.metrics import mean_squared_error\n",
    "import numpy as np\n",
    "import pandas as pd\n",
    "from sklearn.preprocessing import MinMaxScaler\n",
    "from sklearn.metrics import mean_squared_error\n",
    "from keras.models import Model\n",
    "from keras.layers import Input, Dense, Flatten, Concatenate, Lambda,RepeatVector\n",
    "from keras.optimizers import Adam\n",
    "\n",
    "# Load your wind speed data\n",
    "# Replace 'your_data.csv' with the actual path to your dataset\n",
    "df = pd.read_csv('apple_stocks_with_sentiment10.csv', parse_dates=['Date'])\n",
    "data = df[['Close']]"
   ]
  },
  {
   "cell_type": "code",
   "execution_count": 60,
   "id": "9a192f35",
   "metadata": {},
   "outputs": [],
   "source": [
    "class NBeatsBlock(tf.keras.layers.Layer):\n",
    "  def __init__(self, # the constructor takes all the hyperparameters for the layer\n",
    "               input_size: int,\n",
    "               theta_size: int,\n",
    "               horizon: int,\n",
    "               n_neurons: int,\n",
    "               n_layers: int,\n",
    "               **kwargs): # the **kwargs argument takes care of all of the arguments for the parent class (input_shape, trainable, name)\n",
    "    super().__init__(**kwargs)\n",
    "    self.input_size = input_size\n",
    "    self.theta_size = theta_size\n",
    "    self.horizon = horizon\n",
    "    self.n_neurons = n_neurons\n",
    "    self.n_layers = n_layers\n",
    "\n",
    "    # Block contains stack of 4 fully connected layers each has ReLU activation\n",
    "    self.hidden = [tf.keras.layers.Dense(n_neurons, activation=\"relu\") for _ in range(n_layers)]\n",
    "    # Output of block is a theta layer with linear activation\n",
    "    self.theta_layer = tf.keras.layers.Dense(theta_size, activation=\"linear\", name=\"theta\")\n",
    "\n",
    "  def call(self, inputs): # the call method is what runs when the layer is called \n",
    "    x = inputs \n",
    "    for layer in self.hidden: # pass inputs through each hidden layer \n",
    "      x = layer(x)\n",
    "    theta = self.theta_layer(x) \n",
    "    # Output the backcast and forecast from theta\n",
    "    backcast, forecast = theta[:, :self.input_size], theta[:, -self.horizon:]\n",
    "    return backcast, forecast"
   ]
  },
  {
   "cell_type": "code",
   "execution_count": 61,
   "id": "d33e7766",
   "metadata": {},
   "outputs": [
    {
     "data": {
      "text/plain": [
       "(1596, 1596, 400, 400)"
      ]
     },
     "execution_count": 61,
     "metadata": {},
     "output_type": "execute_result"
    }
   ],
   "source": [
    "bitcoin_prices=data.copy()\n",
    "\n",
    "HORIZON = 1 # how far to predict forward\n",
    "WINDOW_SIZE = 20 # how far to lookback\n",
    "\n",
    "# Add windowed columns\n",
    "bitcoin_prices_nbeats = bitcoin_prices.copy()\n",
    "for i in range(WINDOW_SIZE):\n",
    "  bitcoin_prices_nbeats[f\"Price+{i+1}\"] = bitcoin_prices_nbeats[\"Close\"].shift(periods=i+1)\n",
    "bitcoin_prices_nbeats.dropna().head()\n",
    "\n",
    "# Make features and labels\n",
    "X = bitcoin_prices_nbeats.dropna().drop(\"Close\", axis=1)\n",
    "y = bitcoin_prices_nbeats.dropna()[\"Close\"]\n",
    "\n",
    "# Make train and test sets\n",
    "split_size = int(len(X) * 0.8)\n",
    "X_train, y_train = X[:split_size], y[:split_size]\n",
    "X_test, y_test = X[split_size:], y[split_size:]\n",
    "len(X_train), len(y_train), len(X_test), len(y_test)"
   ]
  },
  {
   "cell_type": "code",
   "execution_count": 62,
   "id": "252c58a1",
   "metadata": {},
   "outputs": [
    {
     "data": {
      "text/plain": [
       "(<_PrefetchDataset element_spec=(TensorSpec(shape=(None, 20), dtype=tf.float64, name=None), TensorSpec(shape=(None,), dtype=tf.float64, name=None))>,\n",
       " <_PrefetchDataset element_spec=(TensorSpec(shape=(None, 20), dtype=tf.float64, name=None), TensorSpec(shape=(None,), dtype=tf.float64, name=None))>)"
      ]
     },
     "execution_count": 62,
     "metadata": {},
     "output_type": "execute_result"
    }
   ],
   "source": [
    "# 1. Turn train and test arrays into tensor Datasets\n",
    "train_features_dataset = tf.data.Dataset.from_tensor_slices(X_train)\n",
    "train_labels_dataset = tf.data.Dataset.from_tensor_slices(y_train)\n",
    "\n",
    "test_features_dataset = tf.data.Dataset.from_tensor_slices(X_test)\n",
    "test_labels_dataset = tf.data.Dataset.from_tensor_slices(y_test)\n",
    "\n",
    "# 2. Combine features & labels\n",
    "train_dataset = tf.data.Dataset.zip((train_features_dataset, train_labels_dataset))\n",
    "test_dataset = tf.data.Dataset.zip((test_features_dataset, test_labels_dataset))\n",
    "\n",
    "# 3. Batch and prefetch for optimal performance\n",
    "BATCH_SIZE = 1024 # taken from Appendix D in N-BEATS paper\n",
    "train_dataset = train_dataset.batch(BATCH_SIZE).prefetch(tf.data.AUTOTUNE)\n",
    "test_dataset = test_dataset.batch(BATCH_SIZE).prefetch(tf.data.AUTOTUNE)\n",
    "\n",
    "train_dataset, test_dataset"
   ]
  },
  {
   "cell_type": "code",
   "execution_count": 63,
   "id": "d5c1ed78",
   "metadata": {},
   "outputs": [
    {
     "data": {
      "text/plain": [
       "(20, 21)"
      ]
     },
     "execution_count": 63,
     "metadata": {},
     "output_type": "execute_result"
    }
   ],
   "source": [
    "# Values from N-BEATS paper Figure 1 and Table 18/Appendix D\n",
    "N_EPOCHS = 500 # called \"Iterations\" in Table 18\n",
    "N_NEURONS = 5 # called \"Width\" in Table 18\n",
    "N_LAYERS = 5\n",
    "N_STACKS = 5\n",
    "\n",
    "INPUT_SIZE = WINDOW_SIZE * HORIZON # called \"Lookback\" in Table 18\n",
    "THETA_SIZE = INPUT_SIZE + HORIZON\n",
    "\n",
    "INPUT_SIZE, THETA_SIZE"
   ]
  },
  {
   "cell_type": "code",
   "execution_count": 64,
   "id": "26095ef7",
   "metadata": {},
   "outputs": [
    {
     "name": "stdout",
     "output_type": "stream",
     "text": [
      "Epoch 1/500\n",
      "2/2 - 9s - loss: 21.1587 - mae: 21.1587 - mse: 507.3382 - val_loss: 43.7582 - val_mae: 43.7582 - val_mse: 2002.5001 - lr: 0.0010 - 9s/epoch - 5s/step\n",
      "Epoch 2/500\n",
      "2/2 - 0s - loss: 18.9262 - mae: 18.9262 - mse: 405.7493 - val_loss: 38.7314 - val_mae: 38.7314 - val_mse: 1569.9410 - lr: 0.0010 - 60ms/epoch - 30ms/step\n",
      "Epoch 3/500\n",
      "2/2 - 0s - loss: 16.6470 - mae: 16.6470 - mse: 313.6391 - val_loss: 33.6323 - val_mae: 33.6323 - val_mse: 1185.1610 - lr: 0.0010 - 51ms/epoch - 26ms/step\n",
      "Epoch 4/500\n",
      "2/2 - 0s - loss: 14.3478 - mae: 14.3478 - mse: 232.8394 - val_loss: 28.5819 - val_mae: 28.5819 - val_mse: 857.7292 - lr: 0.0010 - 55ms/epoch - 28ms/step\n",
      "Epoch 5/500\n",
      "2/2 - 0s - loss: 12.0487 - mae: 12.0487 - mse: 164.0735 - val_loss: 23.1972 - val_mae: 23.1972 - val_mse: 567.1703 - lr: 0.0010 - 58ms/epoch - 29ms/step\n",
      "Epoch 6/500\n",
      "2/2 - 0s - loss: 9.5806 - mae: 9.5806 - mse: 103.6266 - val_loss: 17.3895 - val_mae: 17.3895 - val_mse: 321.6155 - lr: 0.0010 - 61ms/epoch - 30ms/step\n",
      "Epoch 7/500\n",
      "2/2 - 0s - loss: 6.9398 - mae: 6.9398 - mse: 54.5386 - val_loss: 11.1938 - val_mae: 11.1938 - val_mse: 137.4719 - lr: 0.0010 - 58ms/epoch - 29ms/step\n",
      "Epoch 8/500\n",
      "2/2 - 0s - loss: 4.0986 - mae: 4.0986 - mse: 19.6274 - val_loss: 4.6679 - val_mae: 4.6679 - val_mse: 29.0714 - lr: 0.0010 - 53ms/epoch - 26ms/step\n",
      "Epoch 9/500\n",
      "2/2 - 0s - loss: 1.3764 - mae: 1.3764 - mse: 2.9051 - val_loss: 2.8682 - val_mae: 2.8682 - val_mse: 13.7308 - lr: 0.0010 - 55ms/epoch - 27ms/step\n",
      "Epoch 10/500\n",
      "2/2 - 0s - loss: 1.9145 - mae: 1.9145 - mse: 6.1193 - val_loss: 6.6961 - val_mae: 6.6961 - val_mse: 54.6181 - lr: 0.0010 - 43ms/epoch - 22ms/step\n",
      "Epoch 11/500\n",
      "2/2 - 0s - loss: 3.4275 - mae: 3.4275 - mse: 15.2545 - val_loss: 8.0105 - val_mae: 8.0105 - val_mse: 75.6749 - lr: 0.0010 - 42ms/epoch - 21ms/step\n",
      "Epoch 12/500\n",
      "2/2 - 0s - loss: 3.7780 - mae: 3.7780 - mse: 17.6135 - val_loss: 7.2411 - val_mae: 7.2411 - val_mse: 62.8978 - lr: 0.0010 - 43ms/epoch - 22ms/step\n",
      "Epoch 13/500\n",
      "2/2 - 0s - loss: 3.2436 - mae: 3.2436 - mse: 13.0182 - val_loss: 5.0704 - val_mae: 5.0704 - val_mse: 33.5733 - lr: 0.0010 - 43ms/epoch - 22ms/step\n",
      "Epoch 14/500\n",
      "2/2 - 0s - loss: 2.1340 - mae: 2.1340 - mse: 6.1035 - val_loss: 2.4510 - val_mae: 2.4510 - val_mse: 11.0064 - lr: 0.0010 - 58ms/epoch - 29ms/step\n",
      "Epoch 15/500\n",
      "2/2 - 0s - loss: 1.0680 - mae: 1.0680 - mse: 1.9039 - val_loss: 2.5413 - val_mae: 2.5413 - val_mse: 11.0101 - lr: 0.0010 - 42ms/epoch - 21ms/step\n",
      "Epoch 16/500\n",
      "2/2 - 0s - loss: 1.1846 - mae: 1.1846 - mse: 2.6359 - val_loss: 4.1188 - val_mae: 4.1188 - val_mse: 23.5096 - lr: 0.0010 - 40ms/epoch - 20ms/step\n",
      "Epoch 17/500\n",
      "2/2 - 0s - loss: 1.7361 - mae: 1.7361 - mse: 4.8081 - val_loss: 4.6070 - val_mae: 4.6070 - val_mse: 28.2499 - lr: 0.0010 - 43ms/epoch - 21ms/step\n",
      "Epoch 18/500\n",
      "2/2 - 0s - loss: 1.8025 - mae: 1.8025 - mse: 4.9486 - val_loss: 3.8819 - val_mae: 3.8819 - val_mse: 21.3426 - lr: 0.0010 - 54ms/epoch - 27ms/step\n",
      "Epoch 19/500\n",
      "2/2 - 0s - loss: 1.4011 - mae: 1.4011 - mse: 3.1676 - val_loss: 2.5891 - val_mae: 2.5891 - val_mse: 11.3314 - lr: 0.0010 - 47ms/epoch - 23ms/step\n",
      "Epoch 20/500\n",
      "2/2 - 0s - loss: 0.9483 - mae: 0.9483 - mse: 1.5938 - val_loss: 2.0075 - val_mae: 2.0075 - val_mse: 8.0530 - lr: 0.0010 - 57ms/epoch - 28ms/step\n",
      "Epoch 21/500\n",
      "2/2 - 0s - loss: 0.9858 - mae: 0.9858 - mse: 1.7650 - val_loss: 2.4497 - val_mae: 2.4497 - val_mse: 10.9404 - lr: 0.0010 - 49ms/epoch - 25ms/step\n",
      "Epoch 22/500\n",
      "2/2 - 0s - loss: 1.2474 - mae: 1.2474 - mse: 2.6027 - val_loss: 2.5775 - val_mae: 2.5775 - val_mse: 11.7273 - lr: 0.0010 - 45ms/epoch - 22ms/step\n",
      "Epoch 23/500\n",
      "2/2 - 0s - loss: 1.2266 - mae: 1.2266 - mse: 2.4775 - val_loss: 2.1515 - val_mae: 2.1515 - val_mse: 9.1049 - lr: 0.0010 - 44ms/epoch - 22ms/step\n",
      "Epoch 24/500\n",
      "2/2 - 0s - loss: 1.0020 - mae: 1.0020 - mse: 1.7261 - val_loss: 2.0369 - val_mae: 2.0369 - val_mse: 8.0209 - lr: 0.0010 - 54ms/epoch - 27ms/step\n",
      "Epoch 25/500\n",
      "2/2 - 0s - loss: 0.9008 - mae: 0.9008 - mse: 1.4964 - val_loss: 2.4156 - val_mae: 2.4156 - val_mse: 10.1617 - lr: 0.0010 - 51ms/epoch - 26ms/step\n",
      "Epoch 26/500\n",
      "2/2 - 0s - loss: 0.9949 - mae: 0.9949 - mse: 1.8260 - val_loss: 2.6427 - val_mae: 2.6427 - val_mse: 11.6657 - lr: 0.0010 - 48ms/epoch - 24ms/step\n",
      "Epoch 27/500\n",
      "2/2 - 0s - loss: 1.0316 - mae: 1.0316 - mse: 1.9161 - val_loss: 2.4493 - val_mae: 2.4493 - val_mse: 10.3683 - lr: 0.0010 - 47ms/epoch - 23ms/step\n",
      "Epoch 28/500\n",
      "2/2 - 0s - loss: 0.9423 - mae: 0.9423 - mse: 1.6052 - val_loss: 2.1128 - val_mae: 2.1128 - val_mse: 8.3701 - lr: 0.0010 - 49ms/epoch - 24ms/step\n",
      "Epoch 29/500\n",
      "2/2 - 0s - loss: 0.8784 - mae: 0.8784 - mse: 1.4054 - val_loss: 1.9915 - val_mae: 1.9915 - val_mse: 7.9037 - lr: 0.0010 - 57ms/epoch - 28ms/step\n",
      "Epoch 30/500\n",
      "2/2 - 0s - loss: 0.9223 - mae: 0.9223 - mse: 1.5284 - val_loss: 2.0187 - val_mae: 2.0187 - val_mse: 8.1940 - lr: 0.0010 - 43ms/epoch - 22ms/step\n",
      "Epoch 31/500\n",
      "2/2 - 0s - loss: 0.9558 - mae: 0.9558 - mse: 1.6119 - val_loss: 1.9954 - val_mae: 1.9954 - val_mse: 7.9865 - lr: 0.0010 - 44ms/epoch - 22ms/step\n",
      "Epoch 32/500\n",
      "2/2 - 0s - loss: 0.9167 - mae: 0.9167 - mse: 1.4980 - val_loss: 2.0169 - val_mae: 2.0169 - val_mse: 7.9084 - lr: 0.0010 - 48ms/epoch - 24ms/step\n",
      "Epoch 33/500\n",
      "2/2 - 0s - loss: 0.8823 - mae: 0.8823 - mse: 1.4231 - val_loss: 2.1539 - val_mae: 2.1539 - val_mse: 8.5727 - lr: 0.0010 - 44ms/epoch - 22ms/step\n",
      "Epoch 34/500\n",
      "2/2 - 0s - loss: 0.8985 - mae: 0.8985 - mse: 1.4867 - val_loss: 2.2398 - val_mae: 2.2398 - val_mse: 9.0462 - lr: 0.0010 - 42ms/epoch - 21ms/step\n",
      "Epoch 35/500\n",
      "2/2 - 0s - loss: 0.9055 - mae: 0.9055 - mse: 1.5029 - val_loss: 2.1654 - val_mae: 2.1654 - val_mse: 8.6283 - lr: 0.0010 - 45ms/epoch - 23ms/step\n",
      "Epoch 36/500\n",
      "2/2 - 0s - loss: 0.8827 - mae: 0.8827 - mse: 1.4232 - val_loss: 2.0451 - val_mae: 2.0451 - val_mse: 8.0081 - lr: 0.0010 - 67ms/epoch - 34ms/step\n",
      "Epoch 37/500\n",
      "2/2 - 0s - loss: 0.8734 - mae: 0.8734 - mse: 1.3916 - val_loss: 1.9882 - val_mae: 1.9882 - val_mse: 7.8086 - lr: 0.0010 - 57ms/epoch - 28ms/step\n",
      "Epoch 38/500\n",
      "2/2 - 0s - loss: 0.8893 - mae: 0.8893 - mse: 1.4303 - val_loss: 1.9830 - val_mae: 1.9830 - val_mse: 7.8037 - lr: 0.0010 - 59ms/epoch - 30ms/step\n",
      "Epoch 39/500\n",
      "2/2 - 0s - loss: 0.8911 - mae: 0.8911 - mse: 1.4329 - val_loss: 1.9980 - val_mae: 1.9980 - val_mse: 7.8168 - lr: 0.0010 - 40ms/epoch - 20ms/step\n",
      "Epoch 40/500\n",
      "2/2 - 0s - loss: 0.8781 - mae: 0.8781 - mse: 1.4017 - val_loss: 2.0547 - val_mae: 2.0547 - val_mse: 8.0357 - lr: 0.0010 - 44ms/epoch - 22ms/step\n",
      "Epoch 41/500\n",
      "2/2 - 0s - loss: 0.8746 - mae: 0.8746 - mse: 1.4022 - val_loss: 2.1032 - val_mae: 2.1032 - val_mse: 8.2780 - lr: 0.0010 - 43ms/epoch - 21ms/step\n",
      "Epoch 42/500\n",
      "2/2 - 0s - loss: 0.8775 - mae: 0.8775 - mse: 1.4109 - val_loss: 2.0957 - val_mae: 2.0957 - val_mse: 8.2341 - lr: 0.0010 - 45ms/epoch - 22ms/step\n",
      "Epoch 43/500\n",
      "2/2 - 0s - loss: 0.8730 - mae: 0.8730 - mse: 1.3937 - val_loss: 2.0466 - val_mae: 2.0466 - val_mse: 7.9886 - lr: 0.0010 - 44ms/epoch - 22ms/step\n",
      "Epoch 44/500\n",
      "2/2 - 0s - loss: 0.8688 - mae: 0.8688 - mse: 1.3781 - val_loss: 2.0052 - val_mae: 2.0052 - val_mse: 7.8160 - lr: 0.0010 - 44ms/epoch - 22ms/step\n",
      "Epoch 45/500\n",
      "2/2 - 0s - loss: 0.8722 - mae: 0.8722 - mse: 1.3848 - val_loss: 1.9922 - val_mae: 1.9922 - val_mse: 7.7710 - lr: 0.0010 - 43ms/epoch - 21ms/step\n",
      "Epoch 46/500\n",
      "2/2 - 0s - loss: 0.8745 - mae: 0.8745 - mse: 1.3890 - val_loss: 2.0023 - val_mae: 2.0023 - val_mse: 7.7973 - lr: 0.0010 - 47ms/epoch - 24ms/step\n",
      "Epoch 47/500\n",
      "2/2 - 0s - loss: 0.8708 - mae: 0.8708 - mse: 1.3813 - val_loss: 2.0306 - val_mae: 2.0306 - val_mse: 7.9048 - lr: 0.0010 - 43ms/epoch - 22ms/step\n",
      "Epoch 48/500\n",
      "\n",
      "Epoch 48: ReduceLROnPlateau reducing learning rate to 0.00010000000474974513.\n",
      "2/2 - 0s - loss: 0.8681 - mae: 0.8681 - mse: 1.3781 - val_loss: 2.0570 - val_mae: 2.0570 - val_mse: 8.0186 - lr: 0.0010 - 44ms/epoch - 22ms/step\n",
      "Epoch 49/500\n",
      "2/2 - 0s - loss: 0.8675 - mae: 0.8675 - mse: 1.3768 - val_loss: 2.0570 - val_mae: 2.0570 - val_mse: 8.0181 - lr: 1.0000e-04 - 45ms/epoch - 23ms/step\n",
      "Epoch 50/500\n",
      "2/2 - 0s - loss: 0.8673 - mae: 0.8673 - mse: 1.3761 - val_loss: 2.0544 - val_mae: 2.0544 - val_mse: 8.0056 - lr: 1.0000e-04 - 50ms/epoch - 25ms/step\n",
      "Epoch 51/500\n",
      "2/2 - 0s - loss: 0.8670 - mae: 0.8670 - mse: 1.3749 - val_loss: 2.0501 - val_mae: 2.0501 - val_mse: 7.9852 - lr: 1.0000e-04 - 46ms/epoch - 23ms/step\n"
     ]
    },
    {
     "name": "stdout",
     "output_type": "stream",
     "text": [
      "Epoch 52/500\n",
      "2/2 - 0s - loss: 0.8667 - mae: 0.8667 - mse: 1.3735 - val_loss: 2.0448 - val_mae: 2.0448 - val_mse: 7.9606 - lr: 1.0000e-04 - 46ms/epoch - 23ms/step\n",
      "Epoch 53/500\n",
      "2/2 - 0s - loss: 0.8664 - mae: 0.8664 - mse: 1.3722 - val_loss: 2.0391 - val_mae: 2.0391 - val_mse: 7.9352 - lr: 1.0000e-04 - 44ms/epoch - 22ms/step\n",
      "Epoch 54/500\n",
      "2/2 - 0s - loss: 0.8662 - mae: 0.8662 - mse: 1.3711 - val_loss: 2.0337 - val_mae: 2.0337 - val_mse: 7.9112 - lr: 1.0000e-04 - 43ms/epoch - 22ms/step\n",
      "Epoch 55/500\n",
      "2/2 - 0s - loss: 0.8661 - mae: 0.8661 - mse: 1.3703 - val_loss: 2.0287 - val_mae: 2.0287 - val_mse: 7.8903 - lr: 1.0000e-04 - 47ms/epoch - 24ms/step\n",
      "Epoch 56/500\n",
      "2/2 - 0s - loss: 0.8661 - mae: 0.8661 - mse: 1.3699 - val_loss: 2.0246 - val_mae: 2.0246 - val_mse: 7.8728 - lr: 1.0000e-04 - 50ms/epoch - 25ms/step\n",
      "Epoch 57/500\n",
      "2/2 - 0s - loss: 0.8661 - mae: 0.8661 - mse: 1.3697 - val_loss: 2.0215 - val_mae: 2.0215 - val_mse: 7.8597 - lr: 1.0000e-04 - 49ms/epoch - 25ms/step\n",
      "Epoch 58/500\n",
      "\n",
      "Epoch 58: ReduceLROnPlateau reducing learning rate to 1.0000000474974514e-05.\n",
      "2/2 - 0s - loss: 0.8662 - mae: 0.8662 - mse: 1.3696 - val_loss: 2.0193 - val_mae: 2.0193 - val_mse: 7.8505 - lr: 1.0000e-04 - 64ms/epoch - 32ms/step\n"
     ]
    },
    {
     "data": {
      "text/plain": [
       "<keras.callbacks.History at 0x26b98236950>"
      ]
     },
     "execution_count": 64,
     "metadata": {},
     "output_type": "execute_result"
    }
   ],
   "source": [
    "from tensorflow.keras import layers\n",
    "\n",
    "# 1. Setup N-BEATS Block layer\n",
    "nbeats_block_layer = NBeatsBlock(input_size=INPUT_SIZE,\n",
    "                                 theta_size=THETA_SIZE,\n",
    "                                 horizon=HORIZON,\n",
    "                                 n_neurons=N_NEURONS,\n",
    "                                 n_layers=N_LAYERS,\n",
    "                                 name=\"InitialBlock\")\n",
    "\n",
    "# 2. Create input to stacks\n",
    "stack_input = layers.Input(shape=(INPUT_SIZE), name=\"stack_input\")\n",
    "\n",
    "# 3. Create initial backcast and forecast input (backwards predictions are referred to as residuals in the paper)\n",
    "backcast, forecast = nbeats_block_layer(stack_input)\n",
    "# Add in subtraction residual link, thank you to: https://github.com/mrdbourke/tensorflow-deep-learning/discussions/174 \n",
    "residuals = layers.subtract([stack_input, backcast], name=f\"subtract_00\") \n",
    "\n",
    "# 4. Create stacks of blocks\n",
    "for i, _ in enumerate(range(N_STACKS-1)): # first stack is already creted in (3)\n",
    "\n",
    "  # 5. Use the NBeatsBlock to calculate the backcast as well as block forecast\n",
    "  backcast, block_forecast = NBeatsBlock(\n",
    "      input_size=INPUT_SIZE,\n",
    "      theta_size=THETA_SIZE,\n",
    "      horizon=HORIZON,\n",
    "      n_neurons=N_NEURONS,\n",
    "      n_layers=N_LAYERS,\n",
    "      name=f\"NBeatsBlock_{i}\"\n",
    "  )(residuals) # pass it in residuals (the backcast)\n",
    "\n",
    "  # 6. Create the double residual stacking\n",
    "  residuals = layers.subtract([residuals, backcast], name=f\"subtract_{i}\") \n",
    "  forecast = layers.add([forecast, block_forecast], name=f\"add_{i}\")\n",
    "\n",
    "# 7. Put the stack model together\n",
    "model_7 = tf.keras.Model(inputs=stack_input, \n",
    "                         outputs=forecast, \n",
    "                         name=\"model_7_N-BEATS\")\n",
    "\n",
    "# 8. Compile with MAE loss and Adam optimizer\n",
    "model_7.compile(loss=\"mae\",\n",
    "                optimizer=tf.keras.optimizers.Adam(0.001),\n",
    "                metrics=[\"mae\", \"mse\"])\n",
    "\n",
    "# 9. Fit the model with EarlyStopping and ReduceLROnPlateau callbacks\n",
    "model_7.fit(train_dataset,\n",
    "            epochs=N_EPOCHS,\n",
    "            validation_data=test_dataset,\n",
    "            verbose=2, # prevent large amounts of training outputs\n",
    "            # callbacks=[create_model_checkpoint(model_name=stack_model.name)] # saving model every epoch consumes far too much time\n",
    "            callbacks=[tf.keras.callbacks.EarlyStopping(monitor=\"val_loss\", patience=20, restore_best_weights=True),\n",
    "                      tf.keras.callbacks.ReduceLROnPlateau(monitor=\"val_loss\", patience=10, verbose=2)])"
   ]
  },
  {
   "cell_type": "code",
   "execution_count": 70,
   "id": "5acd657b",
   "metadata": {},
   "outputs": [],
   "source": [
    "def make_preds(model, input_data):\n",
    "  \"\"\"\n",
    "  Uses model to make predictions on input_data.\n",
    "\n",
    "  Parameters\n",
    "  ----------\n",
    "  model: trained model \n",
    "  input_data: windowed input data (same kind of data model was trained on)\n",
    "\n",
    "  Returns model predictions on input_data.\n",
    "  \"\"\"\n",
    "  forecast = model.predict(input_data)\n",
    "  return tf.squeeze(forecast) # return 1D array of predictions"
   ]
  },
  {
   "cell_type": "code",
   "execution_count": 71,
   "id": "7536097d",
   "metadata": {},
   "outputs": [
    {
     "name": "stdout",
     "output_type": "stream",
     "text": [
      "1/1 [==============================] - 0s 16ms/step\n"
     ]
    },
    {
     "data": {
      "text/plain": [
       "<tf.Tensor: shape=(10,), dtype=float32, numpy=\n",
       "array([47.224   , 47.44925 , 47.908127, 48.40263 , 48.415485, 48.770153,\n",
       "       48.87805 , 49.210464, 49.203667, 48.921753], dtype=float32)>"
      ]
     },
     "execution_count": 71,
     "metadata": {},
     "output_type": "execute_result"
    }
   ],
   "source": [
    "# Make predictions with N-BEATS model\n",
    "model_7_preds = make_preds(model_7, test_dataset)\n",
    "model_7_preds[:10]"
   ]
  },
  {
   "cell_type": "code",
   "execution_count": 72,
   "id": "477cbb0b",
   "metadata": {},
   "outputs": [],
   "source": [
    "# MASE implementation\n",
    "def mean_absolute_scaled_error(y_true, y_pred):\n",
    "    mae = tf.reduce_mean(tf.abs(y_true-y_pred))\n",
    "    \n",
    "    # Find MAE of naive forecast\n",
    "    mae_naive_no_season = tf.reduce_mean(tf.abs(y_true[1:]-y_true[:-1]))\n",
    "    \n",
    "    return mae / mae_naive_no_season"
   ]
  },
  {
   "cell_type": "code",
   "execution_count": 73,
   "id": "f3e32aaf",
   "metadata": {},
   "outputs": [],
   "source": [
    "def evaluate_preds(y_true, y_pred):\n",
    "  # Make sure float32 (for metric calculations)\n",
    "  y_true = tf.cast(y_true, dtype=tf.float32)\n",
    "  y_pred = tf.cast(y_pred, dtype=tf.float32)\n",
    "\n",
    "  # Calculate various metrics\n",
    "  mae = tf.keras.metrics.mean_absolute_error(y_true, y_pred)\n",
    "  mse = tf.keras.metrics.mean_squared_error(y_true, y_pred) # puts and emphasis on outliers (all errors get squared)\n",
    "  rmse = tf.sqrt(mse)\n",
    "  mape = tf.keras.metrics.mean_absolute_percentage_error(y_true, y_pred)\n",
    "  mase = mean_absolute_scaled_error(y_true, y_pred)\n",
    "  \n",
    "  return {\"mae\": mae.numpy(),\n",
    "          \"mse\": mse.numpy(),\n",
    "          \"rmse\": rmse.numpy(),\n",
    "          \"mape\": mape.numpy(),\n",
    "          \"mase\": mase.numpy()}"
   ]
  },
  {
   "cell_type": "code",
   "execution_count": 74,
   "id": "e6a06dbc",
   "metadata": {},
   "outputs": [
    {
     "data": {
      "text/plain": [
       "{'mae': 1.9829636,\n",
       " 'mse': 7.803687,\n",
       " 'rmse': 2.793508,\n",
       " 'mape': 3.4970407,\n",
       " 'mase': 2.099822}"
      ]
     },
     "execution_count": 74,
     "metadata": {},
     "output_type": "execute_result"
    }
   ],
   "source": [
    "# Evaluate N-BEATS model predictions\n",
    "model_7_results = evaluate_preds(y_true=y_test,\n",
    "                                 y_pred=model_7_preds)\n",
    "model_7_results"
   ]
  },
  {
   "cell_type": "code",
   "execution_count": null,
   "id": "d2c244a7",
   "metadata": {},
   "outputs": [],
   "source": []
  }
 ],
 "metadata": {
  "kernelspec": {
   "display_name": "Python 3",
   "language": "python",
   "name": "python3"
  },
  "language_info": {
   "codemirror_mode": {
    "name": "ipython",
    "version": 3
   },
   "file_extension": ".py",
   "mimetype": "text/x-python",
   "name": "python",
   "nbconvert_exporter": "python",
   "pygments_lexer": "ipython3",
   "version": "3.11.5"
  }
 },
 "nbformat": 4,
 "nbformat_minor": 5
}
