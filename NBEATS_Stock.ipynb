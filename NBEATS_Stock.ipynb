{
 "cells": [
  {
   "cell_type": "code",
   "execution_count": 45,
   "id": "64079ac9",
   "metadata": {},
   "outputs": [],
   "source": [
    "import numpy as np\n",
    "import pandas as pd\n",
    "import tensorflow as tf\n",
    "from tensorflow.keras.layers import Input, Dense, Lambda\n",
    "from tensorflow.keras.models import Model\n",
    "from tensorflow.keras.optimizers import Adam\n",
    "from tensorflow.keras.losses import MeanSquaredError\n",
    "from tensorflow.keras.callbacks import EarlyStopping\n",
    "from sklearn.preprocessing import MinMaxScaler\n",
    "from sklearn.model_selection import train_test_split\n",
    "from sklearn.metrics import mean_squared_error\n",
    "import numpy as np\n",
    "import pandas as pd\n",
    "from sklearn.preprocessing import MinMaxScaler\n",
    "from sklearn.metrics import mean_squared_error\n",
    "from keras.models import Model\n",
    "from keras.layers import Input, Dense, Flatten, Concatenate, Lambda,RepeatVector\n",
    "from keras.optimizers import Adam\n",
    "\n",
    "# Load your wind speed data\n",
    "# Replace 'your_data.csv' with the actual path to your dataset\n",
    "df = pd.read_csv('apple_stocks_with_sentiment10.csv', parse_dates=['Date'])\n",
    "data = df[['Close']]"
   ]
  },
  {
   "cell_type": "code",
   "execution_count": 75,
   "id": "e107e06d",
   "metadata": {},
   "outputs": [],
   "source": [
    "class NBeatsBlock(tf.keras.layers.Layer):\n",
    "  def __init__(self, # the constructor takes all the hyperparameters for the layer\n",
    "               input_size: int,\n",
    "               theta_size: int,\n",
    "               horizon: int,\n",
    "               n_neurons: int,\n",
    "               n_layers: int,\n",
    "               **kwargs): # the **kwargs argument takes care of all of the arguments for the parent class (input_shape, trainable, name)\n",
    "    super().__init__(**kwargs)\n",
    "    self.input_size = input_size\n",
    "    self.theta_size = theta_size\n",
    "    self.horizon = horizon\n",
    "    self.n_neurons = n_neurons\n",
    "    self.n_layers = n_layers\n",
    "\n",
    "    # Block contains stack of 4 fully connected layers each has ReLU activation\n",
    "    self.hidden = [tf.keras.layers.Dense(n_neurons, activation=\"relu\") for _ in range(n_layers)]\n",
    "    # Output of block is a theta layer with linear activation\n",
    "    self.theta_layer = tf.keras.layers.Dense(theta_size, activation=\"linear\", name=\"theta\")\n",
    "\n",
    "  def call(self, inputs): # the call method is what runs when the layer is called \n",
    "    x = inputs \n",
    "    for layer in self.hidden: # pass inputs through each hidden layer \n",
    "      x = layer(x)\n",
    "    theta = self.theta_layer(x) \n",
    "    # Output the backcast and forecast from theta\n",
    "    backcast, forecast = theta[:, :self.input_size], theta[:, -self.horizon:]\n",
    "    return backcast, forecast"
   ]
  },
  {
   "cell_type": "code",
   "execution_count": 76,
   "id": "07dbe2fe",
   "metadata": {},
   "outputs": [
    {
     "data": {
      "text/plain": [
       "(1596, 1596, 400, 400)"
      ]
     },
     "execution_count": 76,
     "metadata": {},
     "output_type": "execute_result"
    }
   ],
   "source": [
    "Stock_prices=data.copy()\n",
    "\n",
    "HORIZON = 1 # how far to predict forward\n",
    "WINDOW_SIZE = 20 # how far to lookback\n",
    "\n",
    "# Add windowed columns\n",
    "Stock_prices_nbeats = Stock_prices.copy()\n",
    "for i in range(WINDOW_SIZE):\n",
    "  Stock_prices_nbeats[f\"Price+{i+1}\"] = Stock_prices_nbeats[\"Close\"].shift(periods=i+1)\n",
    "Stock_prices_nbeats.dropna().head()\n",
    "\n",
    "# Make features and labels\n",
    "X = Stock_prices_nbeats.dropna().drop(\"Close\", axis=1)\n",
    "y = Stock_prices_nbeats.dropna()[\"Close\"]\n",
    "\n",
    "# Make train and test sets\n",
    "split_size = int(len(X) * 0.8)\n",
    "X_train, y_train = X[:split_size], y[:split_size]\n",
    "X_test, y_test = X[split_size:], y[split_size:]\n",
    "len(X_train), len(y_train), len(X_test), len(y_test)"
   ]
  },
  {
   "cell_type": "code",
   "execution_count": 77,
   "id": "05b928be",
   "metadata": {},
   "outputs": [
    {
     "data": {
      "text/plain": [
       "(<_PrefetchDataset element_spec=(TensorSpec(shape=(None, 20), dtype=tf.float64, name=None), TensorSpec(shape=(None,), dtype=tf.float64, name=None))>,\n",
       " <_PrefetchDataset element_spec=(TensorSpec(shape=(None, 20), dtype=tf.float64, name=None), TensorSpec(shape=(None,), dtype=tf.float64, name=None))>)"
      ]
     },
     "execution_count": 77,
     "metadata": {},
     "output_type": "execute_result"
    }
   ],
   "source": [
    "# 1. Turn train and test arrays into tensor Datasets\n",
    "train_features_dataset = tf.data.Dataset.from_tensor_slices(X_train)\n",
    "train_labels_dataset = tf.data.Dataset.from_tensor_slices(y_train)\n",
    "\n",
    "test_features_dataset = tf.data.Dataset.from_tensor_slices(X_test)\n",
    "test_labels_dataset = tf.data.Dataset.from_tensor_slices(y_test)\n",
    "\n",
    "# 2. Combine features & labels\n",
    "train_dataset = tf.data.Dataset.zip((train_features_dataset, train_labels_dataset))\n",
    "test_dataset = tf.data.Dataset.zip((test_features_dataset, test_labels_dataset))\n",
    "\n",
    "# 3. Batch and prefetch for optimal performance\n",
    "BATCH_SIZE = 1024 # taken from Appendix D in N-BEATS paper\n",
    "train_dataset = train_dataset.batch(BATCH_SIZE).prefetch(tf.data.AUTOTUNE)\n",
    "test_dataset = test_dataset.batch(BATCH_SIZE).prefetch(tf.data.AUTOTUNE)\n",
    "\n",
    "train_dataset, test_dataset"
   ]
  },
  {
   "cell_type": "code",
   "execution_count": 85,
   "id": "72e79b0d",
   "metadata": {},
   "outputs": [
    {
     "data": {
      "text/plain": [
       "(20, 21)"
      ]
     },
     "execution_count": 85,
     "metadata": {},
     "output_type": "execute_result"
    }
   ],
   "source": [
    "# Values from N-BEATS paper Figure 1 and Table 18/Appendix D\n",
    "N_EPOCHS = 1000 # called \"Iterations\" in Table 18\n",
    "N_NEURONS = 50 # called \"Width\" in Table 18\n",
    "N_LAYERS = 8\n",
    "N_STACKS = 8\n",
    "\n",
    "INPUT_SIZE = WINDOW_SIZE * HORIZON # called \"Lookback\" in Table 18\n",
    "THETA_SIZE = INPUT_SIZE + HORIZON\n",
    "\n",
    "INPUT_SIZE, THETA_SIZE"
   ]
  },
  {
   "cell_type": "code",
   "execution_count": 86,
   "id": "0260c409",
   "metadata": {},
   "outputs": [
    {
     "name": "stdout",
     "output_type": "stream",
     "text": [
      "Epoch 1/1000\n",
      "2/2 - 25s - loss: 17.8425 - mae: 17.8425 - mse: 344.5322 - val_loss: 16.1153 - val_mae: 16.1153 - val_mse: 291.1774 - lr: 0.0010 - 25s/epoch - 13s/step\n",
      "Epoch 2/1000\n",
      "2/2 - 0s - loss: 4.1743 - mae: 4.1743 - mse: 23.3695 - val_loss: 4.1322 - val_mae: 4.1322 - val_mse: 31.7887 - lr: 0.0010 - 115ms/epoch - 57ms/step\n",
      "Epoch 3/1000\n",
      "2/2 - 0s - loss: 1.5494 - mae: 1.5494 - mse: 3.5988 - val_loss: 4.6160 - val_mae: 4.6160 - val_mse: 28.8071 - lr: 0.0010 - 108ms/epoch - 54ms/step\n",
      "Epoch 4/1000\n",
      "2/2 - 0s - loss: 1.1449 - mae: 1.1449 - mse: 2.0013 - val_loss: 3.7373 - val_mae: 3.7373 - val_mse: 26.6012 - lr: 0.0010 - 126ms/epoch - 63ms/step\n",
      "Epoch 5/1000\n",
      "2/2 - 0s - loss: 1.8426 - mae: 1.8426 - mse: 4.8505 - val_loss: 4.4921 - val_mae: 4.4921 - val_mse: 27.4086 - lr: 0.0010 - 89ms/epoch - 44ms/step\n",
      "Epoch 6/1000\n",
      "2/2 - 0s - loss: 1.9077 - mae: 1.9077 - mse: 6.0200 - val_loss: 4.1821 - val_mae: 4.1821 - val_mse: 24.0169 - lr: 0.0010 - 86ms/epoch - 43ms/step\n",
      "Epoch 7/1000\n",
      "2/2 - 0s - loss: 1.1483 - mae: 1.1483 - mse: 2.1521 - val_loss: 2.7066 - val_mae: 2.7066 - val_mse: 15.7723 - lr: 0.0010 - 124ms/epoch - 62ms/step\n",
      "Epoch 8/1000\n",
      "2/2 - 0s - loss: 1.0869 - mae: 1.0869 - mse: 1.8756 - val_loss: 3.8006 - val_mae: 3.8006 - val_mse: 20.0177 - lr: 0.0010 - 95ms/epoch - 48ms/step\n",
      "Epoch 9/1000\n",
      "2/2 - 0s - loss: 1.1572 - mae: 1.1572 - mse: 2.2197 - val_loss: 2.6745 - val_mae: 2.6745 - val_mse: 12.4673 - lr: 0.0010 - 142ms/epoch - 71ms/step\n",
      "Epoch 10/1000\n",
      "2/2 - 0s - loss: 1.0192 - mae: 1.0192 - mse: 1.8594 - val_loss: 2.6136 - val_mae: 2.6136 - val_mse: 12.0262 - lr: 0.0010 - 118ms/epoch - 59ms/step\n",
      "Epoch 11/1000\n",
      "2/2 - 0s - loss: 0.9820 - mae: 0.9820 - mse: 1.6323 - val_loss: 3.2553 - val_mae: 3.2553 - val_mse: 15.2329 - lr: 0.0010 - 94ms/epoch - 47ms/step\n",
      "Epoch 12/1000\n",
      "2/2 - 0s - loss: 0.7898 - mae: 0.7898 - mse: 1.1009 - val_loss: 2.3563 - val_mae: 2.3563 - val_mse: 11.1195 - lr: 0.0010 - 137ms/epoch - 68ms/step\n",
      "Epoch 13/1000\n",
      "2/2 - 0s - loss: 0.8645 - mae: 0.8645 - mse: 1.2463 - val_loss: 3.0490 - val_mae: 3.0490 - val_mse: 13.5366 - lr: 0.0010 - 86ms/epoch - 43ms/step\n",
      "Epoch 14/1000\n",
      "2/2 - 0s - loss: 0.9002 - mae: 0.9002 - mse: 1.4004 - val_loss: 2.2416 - val_mae: 2.2416 - val_mse: 9.5453 - lr: 0.0010 - 140ms/epoch - 70ms/step\n",
      "Epoch 15/1000\n",
      "2/2 - 0s - loss: 0.9051 - mae: 0.9051 - mse: 1.4301 - val_loss: 2.5575 - val_mae: 2.5575 - val_mse: 10.3489 - lr: 0.0010 - 102ms/epoch - 51ms/step\n",
      "Epoch 16/1000\n",
      "2/2 - 0s - loss: 0.9554 - mae: 0.9554 - mse: 1.6696 - val_loss: 2.7025 - val_mae: 2.7025 - val_mse: 11.0570 - lr: 0.0010 - 104ms/epoch - 52ms/step\n",
      "Epoch 17/1000\n",
      "2/2 - 0s - loss: 0.7602 - mae: 0.7602 - mse: 1.0598 - val_loss: 2.1421 - val_mae: 2.1421 - val_mse: 8.7397 - lr: 0.0010 - 134ms/epoch - 67ms/step\n",
      "Epoch 18/1000\n",
      "2/2 - 0s - loss: 0.7807 - mae: 0.7807 - mse: 1.0249 - val_loss: 2.3372 - val_mae: 2.3372 - val_mse: 9.0592 - lr: 0.0010 - 99ms/epoch - 49ms/step\n",
      "Epoch 19/1000\n",
      "2/2 - 0s - loss: 0.6617 - mae: 0.6617 - mse: 0.7946 - val_loss: 2.0850 - val_mae: 2.0850 - val_mse: 7.9858 - lr: 0.0010 - 171ms/epoch - 85ms/step\n",
      "Epoch 20/1000\n",
      "2/2 - 0s - loss: 0.6862 - mae: 0.6862 - mse: 0.8151 - val_loss: 1.9661 - val_mae: 1.9661 - val_mse: 7.3551 - lr: 0.0010 - 162ms/epoch - 81ms/step\n",
      "Epoch 21/1000\n",
      "2/2 - 0s - loss: 0.6476 - mae: 0.6476 - mse: 0.7456 - val_loss: 2.1279 - val_mae: 2.1279 - val_mse: 7.5646 - lr: 0.0010 - 115ms/epoch - 57ms/step\n",
      "Epoch 22/1000\n",
      "2/2 - 0s - loss: 0.6589 - mae: 0.6589 - mse: 0.7713 - val_loss: 1.9106 - val_mae: 1.9106 - val_mse: 7.9215 - lr: 0.0010 - 129ms/epoch - 65ms/step\n",
      "Epoch 23/1000\n",
      "2/2 - 0s - loss: 0.9192 - mae: 0.9192 - mse: 1.3352 - val_loss: 3.5917 - val_mae: 3.5917 - val_mse: 17.2504 - lr: 0.0010 - 99ms/epoch - 49ms/step\n",
      "Epoch 24/1000\n",
      "2/2 - 0s - loss: 1.5063 - mae: 1.5063 - mse: 3.4862 - val_loss: 2.0103 - val_mae: 2.0103 - val_mse: 6.8779 - lr: 0.0010 - 107ms/epoch - 53ms/step\n",
      "Epoch 25/1000\n",
      "2/2 - 0s - loss: 1.0142 - mae: 1.0142 - mse: 1.9773 - val_loss: 1.7653 - val_mae: 1.7653 - val_mse: 6.9577 - lr: 0.0010 - 152ms/epoch - 76ms/step\n",
      "Epoch 26/1000\n",
      "2/2 - 0s - loss: 0.9459 - mae: 0.9459 - mse: 1.4744 - val_loss: 2.6850 - val_mae: 2.6850 - val_mse: 10.4253 - lr: 0.0010 - 114ms/epoch - 57ms/step\n",
      "Epoch 27/1000\n",
      "2/2 - 0s - loss: 0.6926 - mae: 0.6926 - mse: 0.8241 - val_loss: 1.7695 - val_mae: 1.7695 - val_mse: 6.8438 - lr: 0.0010 - 118ms/epoch - 59ms/step\n",
      "Epoch 28/1000\n",
      "2/2 - 0s - loss: 0.6843 - mae: 0.6843 - mse: 0.8127 - val_loss: 2.2075 - val_mae: 2.2075 - val_mse: 7.7328 - lr: 0.0010 - 123ms/epoch - 61ms/step\n",
      "Epoch 29/1000\n",
      "2/2 - 0s - loss: 0.6252 - mae: 0.6252 - mse: 0.6904 - val_loss: 1.7882 - val_mae: 1.7882 - val_mse: 7.0564 - lr: 0.0010 - 125ms/epoch - 62ms/step\n",
      "Epoch 30/1000\n",
      "2/2 - 0s - loss: 0.8300 - mae: 0.8300 - mse: 1.1302 - val_loss: 3.0475 - val_mae: 3.0475 - val_mse: 12.8890 - lr: 0.0010 - 104ms/epoch - 52ms/step\n",
      "Epoch 31/1000\n",
      "2/2 - 0s - loss: 1.2175 - mae: 1.2175 - mse: 2.3773 - val_loss: 1.7837 - val_mae: 1.7837 - val_mse: 6.0160 - lr: 0.0010 - 107ms/epoch - 53ms/step\n",
      "Epoch 32/1000\n",
      "2/2 - 0s - loss: 0.9159 - mae: 0.9159 - mse: 1.5763 - val_loss: 1.6986 - val_mae: 1.6986 - val_mse: 6.0530 - lr: 0.0010 - 129ms/epoch - 65ms/step\n",
      "Epoch 33/1000\n",
      "2/2 - 0s - loss: 0.8693 - mae: 0.8693 - mse: 1.3250 - val_loss: 2.4049 - val_mae: 2.4049 - val_mse: 8.7578 - lr: 0.0010 - 105ms/epoch - 52ms/step\n",
      "Epoch 34/1000\n",
      "2/2 - 0s - loss: 0.6697 - mae: 0.6697 - mse: 0.7855 - val_loss: 1.7219 - val_mae: 1.7219 - val_mse: 6.1548 - lr: 0.0010 - 109ms/epoch - 55ms/step\n",
      "Epoch 35/1000\n",
      "2/2 - 0s - loss: 0.6520 - mae: 0.6520 - mse: 0.7394 - val_loss: 1.8587 - val_mae: 1.8587 - val_mse: 6.2686 - lr: 0.0010 - 119ms/epoch - 60ms/step\n",
      "Epoch 36/1000\n",
      "2/2 - 0s - loss: 0.5823 - mae: 0.5823 - mse: 0.6200 - val_loss: 1.7569 - val_mae: 1.7569 - val_mse: 5.8884 - lr: 0.0010 - 102ms/epoch - 51ms/step\n",
      "Epoch 37/1000\n",
      "2/2 - 0s - loss: 0.5912 - mae: 0.5912 - mse: 0.6293 - val_loss: 1.6394 - val_mae: 1.6394 - val_mse: 5.5753 - lr: 0.0010 - 122ms/epoch - 61ms/step\n",
      "Epoch 38/1000\n",
      "2/2 - 0s - loss: 0.5940 - mae: 0.5940 - mse: 0.6413 - val_loss: 2.0297 - val_mae: 2.0297 - val_mse: 6.6982 - lr: 0.0010 - 88ms/epoch - 44ms/step\n",
      "Epoch 39/1000\n",
      "2/2 - 0s - loss: 0.6363 - mae: 0.6363 - mse: 0.7115 - val_loss: 1.7140 - val_mae: 1.7140 - val_mse: 6.4347 - lr: 0.0010 - 91ms/epoch - 46ms/step\n",
      "Epoch 40/1000\n",
      "2/2 - 0s - loss: 0.8564 - mae: 0.8564 - mse: 1.1922 - val_loss: 2.7994 - val_mae: 2.7994 - val_mse: 10.9365 - lr: 0.0010 - 95ms/epoch - 48ms/step\n",
      "Epoch 41/1000\n",
      "2/2 - 0s - loss: 1.1951 - mae: 1.1951 - mse: 2.3051 - val_loss: 1.6171 - val_mae: 1.6171 - val_mse: 5.1322 - lr: 0.0010 - 137ms/epoch - 69ms/step\n",
      "Epoch 42/1000\n",
      "2/2 - 0s - loss: 0.9179 - mae: 0.9179 - mse: 1.5985 - val_loss: 1.5346 - val_mae: 1.5346 - val_mse: 5.2433 - lr: 0.0010 - 118ms/epoch - 59ms/step\n",
      "Epoch 43/1000\n",
      "2/2 - 0s - loss: 0.8537 - mae: 0.8537 - mse: 1.2943 - val_loss: 2.1543 - val_mae: 2.1543 - val_mse: 7.2505 - lr: 0.0010 - 95ms/epoch - 48ms/step\n",
      "Epoch 44/1000\n",
      "2/2 - 0s - loss: 0.6620 - mae: 0.6620 - mse: 0.7701 - val_loss: 1.6185 - val_mae: 1.6185 - val_mse: 5.3158 - lr: 0.0010 - 101ms/epoch - 50ms/step\n",
      "Epoch 45/1000\n",
      "2/2 - 0s - loss: 0.6404 - mae: 0.6404 - mse: 0.7265 - val_loss: 1.6178 - val_mae: 1.6178 - val_mse: 5.3030 - lr: 0.0010 - 96ms/epoch - 48ms/step\n",
      "Epoch 46/1000\n",
      "2/2 - 0s - loss: 0.6116 - mae: 0.6116 - mse: 0.6833 - val_loss: 2.0192 - val_mae: 2.0192 - val_mse: 6.6100 - lr: 0.0010 - 88ms/epoch - 44ms/step\n",
      "Epoch 47/1000\n",
      "2/2 - 0s - loss: 0.7086 - mae: 0.7086 - mse: 0.8798 - val_loss: 1.5527 - val_mae: 1.5527 - val_mse: 5.4467 - lr: 0.0010 - 113ms/epoch - 57ms/step\n",
      "Epoch 48/1000\n",
      "2/2 - 0s - loss: 0.8206 - mae: 0.8206 - mse: 1.1533 - val_loss: 2.2016 - val_mae: 2.2016 - val_mse: 7.4188 - lr: 0.0010 - 120ms/epoch - 60ms/step\n",
      "Epoch 49/1000\n",
      "2/2 - 0s - loss: 0.9563 - mae: 0.9563 - mse: 1.6106 - val_loss: 1.6357 - val_mae: 1.6357 - val_mse: 5.1435 - lr: 0.0010 - 100ms/epoch - 50ms/step\n",
      "Epoch 50/1000\n",
      "2/2 - 0s - loss: 0.8037 - mae: 0.8037 - mse: 1.2014 - val_loss: 1.5673 - val_mae: 1.5673 - val_mse: 5.1080 - lr: 0.0010 - 93ms/epoch - 47ms/step\n",
      "Epoch 51/1000\n",
      "2/2 - 0s - loss: 0.7683 - mae: 0.7683 - mse: 1.0616 - val_loss: 1.9608 - val_mae: 1.9608 - val_mse: 6.3661 - lr: 0.0010 - 92ms/epoch - 46ms/step\n",
      "Epoch 52/1000\n",
      "\n",
      "Epoch 52: ReduceLROnPlateau reducing learning rate to 0.00010000000474974513.\n"
     ]
    },
    {
     "name": "stdout",
     "output_type": "stream",
     "text": [
      "2/2 - 0s - loss: 0.6313 - mae: 0.6313 - mse: 0.7241 - val_loss: 1.6642 - val_mae: 1.6642 - val_mse: 5.3437 - lr: 0.0010 - 93ms/epoch - 46ms/step\n",
      "Epoch 53/1000\n",
      "2/2 - 0s - loss: 0.5556 - mae: 0.5556 - mse: 0.5650 - val_loss: 1.7307 - val_mae: 1.7307 - val_mse: 5.5264 - lr: 1.0000e-04 - 110ms/epoch - 55ms/step\n",
      "Epoch 54/1000\n",
      "2/2 - 0s - loss: 0.5560 - mae: 0.5560 - mse: 0.5636 - val_loss: 1.7564 - val_mae: 1.7564 - val_mse: 5.6002 - lr: 1.0000e-04 - 103ms/epoch - 52ms/step\n",
      "Epoch 55/1000\n",
      "2/2 - 0s - loss: 0.5542 - mae: 0.5542 - mse: 0.5604 - val_loss: 1.7165 - val_mae: 1.7165 - val_mse: 5.4620 - lr: 1.0000e-04 - 92ms/epoch - 46ms/step\n",
      "Epoch 56/1000\n",
      "2/2 - 0s - loss: 0.5491 - mae: 0.5491 - mse: 0.5529 - val_loss: 1.6574 - val_mae: 1.6574 - val_mse: 5.2761 - lr: 1.0000e-04 - 85ms/epoch - 42ms/step\n",
      "Epoch 57/1000\n",
      "2/2 - 0s - loss: 0.5489 - mae: 0.5489 - mse: 0.5545 - val_loss: 1.6194 - val_mae: 1.6194 - val_mse: 5.1644 - lr: 1.0000e-04 - 94ms/epoch - 47ms/step\n",
      "Epoch 58/1000\n",
      "2/2 - 0s - loss: 0.5500 - mae: 0.5500 - mse: 0.5567 - val_loss: 1.6175 - val_mae: 1.6175 - val_mse: 5.1323 - lr: 1.0000e-04 - 84ms/epoch - 42ms/step\n",
      "Epoch 59/1000\n",
      "2/2 - 0s - loss: 0.5468 - mae: 0.5468 - mse: 0.5498 - val_loss: 1.6389 - val_mae: 1.6389 - val_mse: 5.1581 - lr: 1.0000e-04 - 86ms/epoch - 43ms/step\n",
      "Epoch 60/1000\n",
      "2/2 - 0s - loss: 0.5435 - mae: 0.5435 - mse: 0.5425 - val_loss: 1.6517 - val_mae: 1.6517 - val_mse: 5.1712 - lr: 1.0000e-04 - 85ms/epoch - 43ms/step\n",
      "Epoch 61/1000\n",
      "2/2 - 0s - loss: 0.5414 - mae: 0.5414 - mse: 0.5381 - val_loss: 1.6392 - val_mae: 1.6392 - val_mse: 5.1151 - lr: 1.0000e-04 - 86ms/epoch - 43ms/step\n",
      "Epoch 62/1000\n",
      "\n",
      "Epoch 62: ReduceLROnPlateau reducing learning rate to 1.0000000474974514e-05.\n",
      "2/2 - 0s - loss: 0.5387 - mae: 0.5387 - mse: 0.5338 - val_loss: 1.6057 - val_mae: 1.6057 - val_mse: 5.0040 - lr: 1.0000e-04 - 184ms/epoch - 92ms/step\n"
     ]
    },
    {
     "data": {
      "text/plain": [
       "<keras.callbacks.History at 0x26b834b5210>"
      ]
     },
     "execution_count": 86,
     "metadata": {},
     "output_type": "execute_result"
    }
   ],
   "source": [
    "from tensorflow.keras import layers\n",
    "\n",
    "# 1. Setup N-BEATS Block layer\n",
    "nbeats_block_layer = NBeatsBlock(input_size=INPUT_SIZE,\n",
    "                                 theta_size=THETA_SIZE,\n",
    "                                 horizon=HORIZON,\n",
    "                                 n_neurons=N_NEURONS,\n",
    "                                 n_layers=N_LAYERS,\n",
    "                                 name=\"InitialBlock\")\n",
    "\n",
    "# 2. Create input to stacks\n",
    "stack_input = layers.Input(shape=(INPUT_SIZE), name=\"stack_input\")\n",
    "\n",
    "# 3. Create initial backcast and forecast input (backwards predictions are referred to as residuals in the paper)\n",
    "backcast, forecast = nbeats_block_layer(stack_input)\n",
    "# Add in subtraction residual link, thank you to: https://github.com/mrdbourke/tensorflow-deep-learning/discussions/174 \n",
    "residuals = layers.subtract([stack_input, backcast], name=f\"subtract_00\") \n",
    "\n",
    "# 4. Create stacks of blocks\n",
    "for i, _ in enumerate(range(N_STACKS-1)): # first stack is already creted in (3)\n",
    "\n",
    "  # 5. Use the NBeatsBlock to calculate the backcast as well as block forecast\n",
    "  backcast, block_forecast = NBeatsBlock(\n",
    "      input_size=INPUT_SIZE,\n",
    "      theta_size=THETA_SIZE,\n",
    "      horizon=HORIZON,\n",
    "      n_neurons=N_NEURONS,\n",
    "      n_layers=N_LAYERS,\n",
    "      name=f\"NBeatsBlock_{i}\"\n",
    "  )(residuals) # pass it in residuals (the backcast)\n",
    "\n",
    "  # 6. Create the double residual stacking\n",
    "  residuals = layers.subtract([residuals, backcast], name=f\"subtract_{i}\") \n",
    "  forecast = layers.add([forecast, block_forecast], name=f\"add_{i}\")\n",
    "\n",
    "# 7. Put the stack model together\n",
    "model_7 = tf.keras.Model(inputs=stack_input, \n",
    "                         outputs=forecast, \n",
    "                         name=\"model_7_N-BEATS\")\n",
    "\n",
    "# 8. Compile with MAE loss and Adam optimizer\n",
    "model_7.compile(loss=\"mae\",\n",
    "                optimizer=tf.keras.optimizers.Adam(0.001),\n",
    "                metrics=[\"mae\", \"mse\"])\n",
    "\n",
    "# 9. Fit the model with EarlyStopping and ReduceLROnPlateau callbacks\n",
    "model_7.fit(train_dataset,\n",
    "            epochs=N_EPOCHS,\n",
    "            validation_data=test_dataset,\n",
    "            verbose=2, # prevent large amounts of training outputs\n",
    "            # callbacks=[create_model_checkpoint(model_name=stack_model.name)] # saving model every epoch consumes far too much time\n",
    "            callbacks=[tf.keras.callbacks.EarlyStopping(monitor=\"val_loss\", patience=20, restore_best_weights=True),\n",
    "                      tf.keras.callbacks.ReduceLROnPlateau(monitor=\"val_loss\", patience=10, verbose=2)])"
   ]
  },
  {
   "cell_type": "code",
   "execution_count": 87,
   "id": "6014a7f4",
   "metadata": {},
   "outputs": [],
   "source": [
    "def make_preds(model, input_data):\n",
    "  \"\"\"\n",
    "  Uses model to make predictions on input_data.\n",
    "\n",
    "  Parameters\n",
    "  ----------\n",
    "  model: trained model \n",
    "  input_data: windowed input data (same kind of data model was trained on)\n",
    "\n",
    "  Returns model predictions on input_data.\n",
    "  \"\"\"\n",
    "  forecast = model.predict(input_data)\n",
    "  return tf.squeeze(forecast) # return 1D array of predictions"
   ]
  },
  {
   "cell_type": "code",
   "execution_count": 88,
   "id": "cd151f35",
   "metadata": {},
   "outputs": [
    {
     "name": "stdout",
     "output_type": "stream",
     "text": [
      "WARNING:tensorflow:5 out of the last 18 calls to <function Model.make_predict_function.<locals>.predict_function at 0x0000026BA2DD4F40> triggered tf.function retracing. Tracing is expensive and the excessive number of tracings could be due to (1) creating @tf.function repeatedly in a loop, (2) passing tensors with different shapes, (3) passing Python objects instead of tensors. For (1), please define your @tf.function outside of the loop. For (2), @tf.function has reduce_retracing=True option that can avoid unnecessary retracing. For (3), please refer to https://www.tensorflow.org/guide/function#controlling_retracing and https://www.tensorflow.org/api_docs/python/tf/function for  more details.\n",
      "1/1 [==============================] - 1s 1s/step\n"
     ]
    },
    {
     "data": {
      "text/plain": [
       "<tf.Tensor: shape=(10,), dtype=float32, numpy=\n",
       "array([48.129738, 48.26116 , 48.369762, 48.513676, 48.53721 , 48.569527,\n",
       "       48.833057, 48.95338 , 48.902355, 48.861748], dtype=float32)>"
      ]
     },
     "execution_count": 88,
     "metadata": {},
     "output_type": "execute_result"
    }
   ],
   "source": [
    "# Make predictions with N-BEATS model\n",
    "model_7_preds = make_preds(model_7, test_dataset)\n",
    "model_7_preds[:10]"
   ]
  },
  {
   "cell_type": "code",
   "execution_count": 89,
   "id": "73ef8338",
   "metadata": {},
   "outputs": [],
   "source": [
    "# MASE implementation\n",
    "def mean_absolute_scaled_error(y_true, y_pred):\n",
    "    mae = tf.reduce_mean(tf.abs(y_true-y_pred))\n",
    "    \n",
    "    # Find MAE of naive forecast\n",
    "    mae_naive_no_season = tf.reduce_mean(tf.abs(y_true[1:]-y_true[:-1]))\n",
    "    \n",
    "    return mae / mae_naive_no_season"
   ]
  },
  {
   "cell_type": "code",
   "execution_count": 90,
   "id": "83512b16",
   "metadata": {},
   "outputs": [],
   "source": [
    "def evaluate_preds(y_true, y_pred):\n",
    "  # Make sure float32 (for metric calculations)\n",
    "  y_true = tf.cast(y_true, dtype=tf.float32)\n",
    "  y_pred = tf.cast(y_pred, dtype=tf.float32)\n",
    "\n",
    "  # Calculate various metrics\n",
    "  mae = tf.keras.metrics.mean_absolute_error(y_true, y_pred)\n",
    "  mse = tf.keras.metrics.mean_squared_error(y_true, y_pred) # puts and emphasis on outliers (all errors get squared)\n",
    "  rmse = tf.sqrt(mse)\n",
    "  mape = tf.keras.metrics.mean_absolute_percentage_error(y_true, y_pred)\n",
    "  mase = mean_absolute_scaled_error(y_true, y_pred)\n",
    "  \n",
    "  return {\"mae\": mae.numpy(),\n",
    "          \"mse\": mse.numpy(),\n",
    "          \"rmse\": rmse.numpy(),\n",
    "          \"mape\": mape.numpy(),\n",
    "          \"mase\": mase.numpy()}"
   ]
  },
  {
   "cell_type": "code",
   "execution_count": 91,
   "id": "20d4b246",
   "metadata": {},
   "outputs": [
    {
     "data": {
      "text/plain": [
       "{'mae': 1.534563,\n",
       " 'mse': 5.243324,\n",
       " 'rmse': 2.2898304,\n",
       " 'mape': 2.744855,\n",
       " 'mase': 1.6249967}"
      ]
     },
     "execution_count": 91,
     "metadata": {},
     "output_type": "execute_result"
    }
   ],
   "source": [
    "# Evaluate N-BEATS model predictions\n",
    "model_7_results = evaluate_preds(y_true=y_test,\n",
    "                                 y_pred=model_7_preds)\n",
    "model_7_results"
   ]
  },
  {
   "cell_type": "code",
   "execution_count": null,
   "id": "638140d7",
   "metadata": {},
   "outputs": [],
   "source": []
  },
  {
   "cell_type": "code",
   "execution_count": null,
   "id": "c9355559",
   "metadata": {},
   "outputs": [],
   "source": []
  },
  {
   "cell_type": "code",
   "execution_count": null,
   "id": "50ef2020",
   "metadata": {},
   "outputs": [],
   "source": []
  }
 ],
 "metadata": {
  "kernelspec": {
   "display_name": "Python 3",
   "language": "python",
   "name": "python3"
  },
  "language_info": {
   "codemirror_mode": {
    "name": "ipython",
    "version": 3
   },
   "file_extension": ".py",
   "mimetype": "text/x-python",
   "name": "python",
   "nbconvert_exporter": "python",
   "pygments_lexer": "ipython3",
   "version": "3.11.5"
  }
 },
 "nbformat": 4,
 "nbformat_minor": 5
}
